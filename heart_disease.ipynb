{
 "cells": [
  {
   "cell_type": "markdown",
   "metadata": {},
   "source": [
    "## Predict heart disease \n",
    "\n",
    "Normalization/standardization are designed to achieve a similar goal, which is to create features that have similar ranges to each other and are widely used in data analysis to help the programmer to get some clue out of the raw data.\n",
    "\n",
    "This notebook includes:\n",
    "\n",
    "- Normalization\n",
    "- Why normalize?\n",
    "- Standardization\n",
    "- Why standardization?\n",
    "- Differences?\n",
    "- When to use and when not\n",
    "- Python code for Simple Feature Scaling, Min-Max, Z-score, log1p transformation"
   ]
  }
